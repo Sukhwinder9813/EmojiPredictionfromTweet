{
  "nbformat": 4,
  "nbformat_minor": 0,
  "metadata": {
    "colab": {
      "name": "EmojiPredictorfromTweets.ipynb",
      "provenance": [],
      "authorship_tag": "ABX9TyMh8+va2lKBaCOYCHgJ0Na+",
      "include_colab_link": true
    },
    "kernelspec": {
      "name": "python3",
      "display_name": "Python 3"
    },
    "accelerator": "GPU"
  },
  "cells": [
    {
      "cell_type": "markdown",
      "metadata": {
        "id": "view-in-github",
        "colab_type": "text"
      },
      "source": [
        "<a href=\"https://colab.research.google.com/github/Sukhwinder9813/EmojiPredictionfromTweet/blob/master/EmojiPredictorfromTweets.ipynb\" target=\"_parent\"><img src=\"https://colab.research.google.com/assets/colab-badge.svg\" alt=\"Open In Colab\"/></a>"
      ]
    },
    {
      "cell_type": "code",
      "metadata": {
        "id": "kAlEgX58utaq",
        "colab_type": "code",
        "colab": {}
      },
      "source": [
        "import pandas as pd\n",
        "import numpy as np\n"
      ],
      "execution_count": 0,
      "outputs": []
    },
    {
      "cell_type": "code",
      "metadata": {
        "id": "T3YAHQy8uyF6",
        "colab_type": "code",
        "outputId": "46f02252-6db2-4ea8-cfd0-7be75d90fce1",
        "colab": {
          "base_uri": "https://localhost:8080/",
          "height": 816
        }
      },
      "source": [
        "import nltk\n",
        "nltk.download('popular')"
      ],
      "execution_count": 0,
      "outputs": [
        {
          "output_type": "stream",
          "text": [
            "[nltk_data] Downloading collection 'popular'\n",
            "[nltk_data]    | \n",
            "[nltk_data]    | Downloading package cmudict to /root/nltk_data...\n",
            "[nltk_data]    |   Unzipping corpora/cmudict.zip.\n",
            "[nltk_data]    | Downloading package gazetteers to /root/nltk_data...\n",
            "[nltk_data]    |   Unzipping corpora/gazetteers.zip.\n",
            "[nltk_data]    | Downloading package genesis to /root/nltk_data...\n",
            "[nltk_data]    |   Unzipping corpora/genesis.zip.\n",
            "[nltk_data]    | Downloading package gutenberg to /root/nltk_data...\n",
            "[nltk_data]    |   Unzipping corpora/gutenberg.zip.\n",
            "[nltk_data]    | Downloading package inaugural to /root/nltk_data...\n",
            "[nltk_data]    |   Unzipping corpora/inaugural.zip.\n",
            "[nltk_data]    | Downloading package movie_reviews to\n",
            "[nltk_data]    |     /root/nltk_data...\n",
            "[nltk_data]    |   Unzipping corpora/movie_reviews.zip.\n",
            "[nltk_data]    | Downloading package names to /root/nltk_data...\n",
            "[nltk_data]    |   Unzipping corpora/names.zip.\n",
            "[nltk_data]    | Downloading package shakespeare to /root/nltk_data...\n",
            "[nltk_data]    |   Unzipping corpora/shakespeare.zip.\n",
            "[nltk_data]    | Downloading package stopwords to /root/nltk_data...\n",
            "[nltk_data]    |   Unzipping corpora/stopwords.zip.\n",
            "[nltk_data]    | Downloading package treebank to /root/nltk_data...\n",
            "[nltk_data]    |   Unzipping corpora/treebank.zip.\n",
            "[nltk_data]    | Downloading package twitter_samples to\n",
            "[nltk_data]    |     /root/nltk_data...\n",
            "[nltk_data]    |   Unzipping corpora/twitter_samples.zip.\n",
            "[nltk_data]    | Downloading package omw to /root/nltk_data...\n",
            "[nltk_data]    |   Unzipping corpora/omw.zip.\n",
            "[nltk_data]    | Downloading package wordnet to /root/nltk_data...\n",
            "[nltk_data]    |   Unzipping corpora/wordnet.zip.\n",
            "[nltk_data]    | Downloading package wordnet_ic to /root/nltk_data...\n",
            "[nltk_data]    |   Unzipping corpora/wordnet_ic.zip.\n",
            "[nltk_data]    | Downloading package words to /root/nltk_data...\n",
            "[nltk_data]    |   Unzipping corpora/words.zip.\n",
            "[nltk_data]    | Downloading package maxent_ne_chunker to\n",
            "[nltk_data]    |     /root/nltk_data...\n",
            "[nltk_data]    |   Unzipping chunkers/maxent_ne_chunker.zip.\n",
            "[nltk_data]    | Downloading package punkt to /root/nltk_data...\n",
            "[nltk_data]    |   Unzipping tokenizers/punkt.zip.\n",
            "[nltk_data]    | Downloading package snowball_data to\n",
            "[nltk_data]    |     /root/nltk_data...\n",
            "[nltk_data]    | Downloading package averaged_perceptron_tagger to\n",
            "[nltk_data]    |     /root/nltk_data...\n",
            "[nltk_data]    |   Unzipping taggers/averaged_perceptron_tagger.zip.\n",
            "[nltk_data]    | \n",
            "[nltk_data]  Done downloading collection popular\n"
          ],
          "name": "stdout"
        },
        {
          "output_type": "execute_result",
          "data": {
            "text/plain": [
              "True"
            ]
          },
          "metadata": {
            "tags": []
          },
          "execution_count": 2
        }
      ]
    },
    {
      "cell_type": "code",
      "metadata": {
        "id": "N8gQ_7rVu1MO",
        "colab_type": "code",
        "colab": {}
      },
      "source": [
        "import emoji"
      ],
      "execution_count": 0,
      "outputs": []
    },
    {
      "cell_type": "code",
      "metadata": {
        "id": "13tvAmK9u2u3",
        "colab_type": "code",
        "colab": {}
      },
      "source": [
        "from keras.preprocessing.text import Tokenizer"
      ],
      "execution_count": 0,
      "outputs": []
    },
    {
      "cell_type": "code",
      "metadata": {
        "id": "bx6Xigv0vQBz",
        "colab_type": "code",
        "colab": {}
      },
      "source": [
        "from nltk.corpus import stopwords\n"
      ],
      "execution_count": 0,
      "outputs": []
    },
    {
      "cell_type": "code",
      "metadata": {
        "id": "vEcGoQxlvUTt",
        "colab_type": "code",
        "colab": {}
      },
      "source": [
        "data=pd.read_csv('Train.csv')"
      ],
      "execution_count": 0,
      "outputs": []
    },
    {
      "cell_type": "code",
      "metadata": {
        "id": "qIfp3F_cvaN5",
        "colab_type": "code",
        "colab": {}
      },
      "source": [
        "x_train=data['TEXT'].values"
      ],
      "execution_count": 0,
      "outputs": []
    },
    {
      "cell_type": "code",
      "metadata": {
        "id": "gzVOlVCjvjzb",
        "colab_type": "code",
        "colab": {}
      },
      "source": [
        "y_train=data['Label'].values"
      ],
      "execution_count": 0,
      "outputs": []
    },
    {
      "cell_type": "code",
      "metadata": {
        "id": "HCLT8jtsvn9V",
        "colab_type": "code",
        "colab": {}
      },
      "source": [
        "smoothtweets=[]\n",
        "stopper=set(stopwords.words('english'))\n",
        "for tweets in x_train:\n",
        "  words=tweets.split(\" \")\n",
        "  str = \"\"\n",
        "  for word in words:\n",
        "      if word[0] != \"@\" and word not in stopper:\n",
        "          if word[0] == \"#\":\n",
        "              word = word[1:]\n",
        "          str += word + \" \"\n",
        "  smoothtweets.append(str)"
      ],
      "execution_count": 0,
      "outputs": []
    },
    {
      "cell_type": "code",
      "metadata": {
        "id": "JY4h-9fJv1_e",
        "colab_type": "code",
        "outputId": "598c2fc6-de56-4fcf-bd68-6dc43d2c7341",
        "colab": {
          "base_uri": "https://localhost:8080/",
          "height": 34
        }
      },
      "source": [
        "smoothtweets[2]"
      ],
      "execution_count": 0,
      "outputs": [
        {
          "output_type": "execute_result",
          "data": {
            "text/plain": [
              "'Been friends since 7th grade. Look us following dreams love and…\\n '"
            ]
          },
          "metadata": {
            "tags": []
          },
          "execution_count": 254
        }
      ]
    },
    {
      "cell_type": "code",
      "metadata": {
        "id": "1NNmPguWwXQ3",
        "colab_type": "code",
        "colab": {}
      },
      "source": [
        "tokenizer = Tokenizer(filters='!\"#$%&()*+,-./:;<=>?@[\\\\]^_`{|}~\\t\\n', split=\" \", lower=True)\n",
        "tokenizer.fit_on_texts(smoothtweets)\n",
        "newsmoothtweets=[]\n",
        "newsmoothtweets=tokenizer.texts_to_sequences(smoothtweets)"
      ],
      "execution_count": 0,
      "outputs": []
    },
    {
      "cell_type": "code",
      "metadata": {
        "id": "00D6AaRhwif5",
        "colab_type": "code",
        "outputId": "8757f3f7-6218-43a3-92ed-83e1ea51e3de",
        "colab": {
          "base_uri": "https://localhost:8080/",
          "height": 34
        }
      },
      "source": [
        "print(newsmoothtweets[3])"
      ],
      "execution_count": 0,
      "outputs": [
        {
          "output_type": "stream",
          "text": [
            "[15, 378, 23, 436, 325, 10222, 161, 1006, 470, 10223]\n"
          ],
          "name": "stdout"
        }
      ]
    },
    {
      "cell_type": "code",
      "metadata": {
        "id": "oL7c1yQezR_k",
        "colab_type": "code",
        "colab": {}
      },
      "source": [
        "from keras.preprocessing import sequence\n",
        "X_train=sequence.pad_sequences(newsmoothtweets,maxlen=12,padding='post')"
      ],
      "execution_count": 0,
      "outputs": []
    },
    {
      "cell_type": "code",
      "metadata": {
        "id": "5v_aKbOV1rrz",
        "colab_type": "code",
        "colab": {}
      },
      "source": [
        "from keras.layers import *\n",
        "from keras.models import Sequential "
      ],
      "execution_count": 0,
      "outputs": []
    },
    {
      "cell_type": "code",
      "metadata": {
        "id": "HrWj-1nH1tmF",
        "colab_type": "code",
        "colab": {}
      },
      "source": [
        "from keras.utils import to_categorical"
      ],
      "execution_count": 0,
      "outputs": []
    },
    {
      "cell_type": "code",
      "metadata": {
        "id": "mOGOXpNA4D5N",
        "colab_type": "code",
        "colab": {}
      },
      "source": [
        "Y_train=to_categorical(y_train)"
      ],
      "execution_count": 0,
      "outputs": []
    },
    {
      "cell_type": "code",
      "metadata": {
        "id": "P5EixeLs4JM-",
        "colab_type": "code",
        "outputId": "35353e64-4682-402d-b986-6bcb1f2e0c9d",
        "colab": {
          "base_uri": "https://localhost:8080/",
          "height": 34
        }
      },
      "source": [
        "Y_train.shape"
      ],
      "execution_count": 0,
      "outputs": [
        {
          "output_type": "execute_result",
          "data": {
            "text/plain": [
              "(70000, 20)"
            ]
          },
          "metadata": {
            "tags": []
          },
          "execution_count": 261
        }
      ]
    },
    {
      "cell_type": "code",
      "metadata": {
        "id": "qrjrEZCg4LeZ",
        "colab_type": "code",
        "outputId": "98685012-6b28-412b-b667-a5154ed4c8de",
        "colab": {
          "base_uri": "https://localhost:8080/",
          "height": 34
        }
      },
      "source": [
        "X_train.shape"
      ],
      "execution_count": 0,
      "outputs": [
        {
          "output_type": "execute_result",
          "data": {
            "text/plain": [
              "(70000, 12)"
            ]
          },
          "metadata": {
            "tags": []
          },
          "execution_count": 262
        }
      ]
    },
    {
      "cell_type": "code",
      "metadata": {
        "id": "EGB5mMMs4UH8",
        "colab_type": "code",
        "colab": {}
      },
      "source": [
        ""
      ],
      "execution_count": 0,
      "outputs": []
    },
    {
      "cell_type": "code",
      "metadata": {
        "id": "yGFFCq63BvcV",
        "colab_type": "code",
        "colab": {}
      },
      "source": [
        "wordembedd={}\n",
        "f=open('/content/glove.6B.50d.txt')\n",
        "for line in f:\n",
        "  words=line.split()\n",
        "  word=words[0]\n",
        "  coefs=np.asarray(words[1:],dtype='float')\n",
        "  wordembedd[word]=coefs\n",
        "f.close()"
      ],
      "execution_count": 0,
      "outputs": []
    },
    {
      "cell_type": "code",
      "metadata": {
        "id": "eBNTC2uGB4N5",
        "colab_type": "code",
        "colab": {}
      },
      "source": [
        "def populate_weight_matrix(vocab, raw_embedding):\n",
        "    # Create weight matrix from pre-trained embeddings\n",
        "    vocab_size = len(vocab) + 1\n",
        "    weight_matrix = np.zeros((vocab_size, 50))\n",
        "    for word, i in vocab.items():\n",
        "        if word in raw_embedding:\n",
        "            weight_matrix[i] = raw_embedding[word]\n",
        "    return weight_matrix"
      ],
      "execution_count": 0,
      "outputs": []
    },
    {
      "cell_type": "code",
      "metadata": {
        "id": "fQUFBebKDtMs",
        "colab_type": "code",
        "colab": {}
      },
      "source": [
        "vocab=tokenizer.word_index"
      ],
      "execution_count": 0,
      "outputs": []
    },
    {
      "cell_type": "code",
      "metadata": {
        "id": "usY_gQmlDvrv",
        "colab_type": "code",
        "colab": {}
      },
      "source": [
        "len(vocab)\n",
        "import math"
      ],
      "execution_count": 0,
      "outputs": []
    },
    {
      "cell_type": "code",
      "metadata": {
        "id": "-BlzRCNaDxQX",
        "colab_type": "code",
        "colab": {}
      },
      "source": [
        "weight_matrix=populate_weight_matrix(vocab,wordembedd)"
      ],
      "execution_count": 0,
      "outputs": []
    },
    {
      "cell_type": "code",
      "metadata": {
        "id": "rAT2YiKWD85D",
        "colab_type": "code",
        "outputId": "c33b83e3-a93e-4a51-9b4a-b262287a6b2c",
        "colab": {
          "base_uri": "https://localhost:8080/",
          "height": 170
        }
      },
      "source": [
        "weight_matrix[8]"
      ],
      "execution_count": 0,
      "outputs": [
        {
          "output_type": "execute_result",
          "data": {
            "text/plain": [
              "array([ 0.092086,  0.2571  , -0.58693 , -0.37029 ,  1.0828  , -0.55466 ,\n",
              "       -0.78142 ,  0.58696 , -0.58714 ,  0.46318 , -0.11267 ,  0.2606  ,\n",
              "       -0.26928 , -0.072466,  1.247   ,  0.30571 ,  0.56731 ,  0.30509 ,\n",
              "       -0.050312, -0.64443 , -0.54513 ,  0.86429 ,  0.20914 ,  0.56334 ,\n",
              "        1.1228  , -1.0516  , -0.78105 ,  0.29656 ,  0.7261  , -0.61392 ,\n",
              "        2.4225  ,  1.0142  , -0.17753 ,  0.4147  , -0.12966 , -0.47064 ,\n",
              "        0.3807  ,  0.16309 , -0.323   , -0.77899 , -0.42473 , -0.30826 ,\n",
              "       -0.42242 ,  0.055069,  0.38267 ,  0.037415, -0.4302  , -0.39442 ,\n",
              "        0.10511 ,  0.87286 ])"
            ]
          },
          "metadata": {
            "tags": []
          },
          "execution_count": 268
        }
      ]
    },
    {
      "cell_type": "code",
      "metadata": {
        "id": "-paysZAOEFVR",
        "colab_type": "code",
        "colab": {}
      },
      "source": [
        "max_length = math.ceil(sum([len(s.split(\" \")) for s in smoothtweets])/len(smoothtweets))\n",
        "vocab_size=len(vocab)+1\n",
        "model=Sequential()\n",
        "model.add(Embedding(vocab_size,50,weights=[weight_matrix],input_length=max_length+2,trainable=True,))\n",
        "model.add(LSTM(128,dropout=0.2,return_sequences=True))\n",
        "model.add(LSTM(128,dropout=0.2))\n",
        "model.add(Dense(20,activation='softmax'))\n",
        "model.compile(loss='categorical_crossentropy',optimizer='adam',metrics=['accuracy'])"
      ],
      "execution_count": 0,
      "outputs": []
    },
    {
      "cell_type": "code",
      "metadata": {
        "id": "68iH6akNEXZm",
        "colab_type": "code",
        "outputId": "fd844a78-018d-448b-e4ef-d68daf14b2e1",
        "colab": {
          "base_uri": "https://localhost:8080/",
          "height": 289
        }
      },
      "source": [
        "model.summary()"
      ],
      "execution_count": 0,
      "outputs": [
        {
          "output_type": "stream",
          "text": [
            "Model: \"sequential_19\"\n",
            "_________________________________________________________________\n",
            "Layer (type)                 Output Shape              Param #   \n",
            "=================================================================\n",
            "embedding_18 (Embedding)     (None, 12, 50)            4275000   \n",
            "_________________________________________________________________\n",
            "lstm_34 (LSTM)               (None, 12, 128)           91648     \n",
            "_________________________________________________________________\n",
            "lstm_35 (LSTM)               (None, 128)               131584    \n",
            "_________________________________________________________________\n",
            "dense_17 (Dense)             (None, 20)                2580      \n",
            "=================================================================\n",
            "Total params: 4,500,812\n",
            "Trainable params: 4,500,812\n",
            "Non-trainable params: 0\n",
            "_________________________________________________________________\n"
          ],
          "name": "stdout"
        }
      ]
    },
    {
      "cell_type": "code",
      "metadata": {
        "id": "sjAxyfXjFHDX",
        "colab_type": "code",
        "outputId": "c14d0725-85b6-43e7-98b1-bcd4855e6648",
        "colab": {
          "base_uri": "https://localhost:8080/",
          "height": 275
        }
      },
      "source": [
        "model.fit(X_train,Y_train,epochs=5,batch_size=128,shuffle=True,validation_split=0.15)"
      ],
      "execution_count": 0,
      "outputs": [
        {
          "output_type": "stream",
          "text": [
            "/usr/local/lib/python3.6/dist-packages/tensorflow/python/framework/indexed_slices.py:434: UserWarning: Converting sparse IndexedSlices to a dense Tensor of unknown shape. This may consume a large amount of memory.\n",
            "  \"Converting sparse IndexedSlices to a dense Tensor of unknown shape. \"\n"
          ],
          "name": "stderr"
        },
        {
          "output_type": "stream",
          "text": [
            "Train on 59500 samples, validate on 10500 samples\n",
            "Epoch 1/5\n",
            "59500/59500 [==============================] - 25s 423us/step - loss: 2.5389 - accuracy: 0.2625 - val_loss: 2.3151 - val_accuracy: 0.3107\n",
            "Epoch 2/5\n",
            "59500/59500 [==============================] - 24s 401us/step - loss: 2.2685 - accuracy: 0.3238 - val_loss: 2.2342 - val_accuracy: 0.3350\n",
            "Epoch 3/5\n",
            "59500/59500 [==============================] - 23s 384us/step - loss: 2.1415 - accuracy: 0.3601 - val_loss: 2.2115 - val_accuracy: 0.3427\n",
            "Epoch 4/5\n",
            "59500/59500 [==============================] - 23s 385us/step - loss: 1.9961 - accuracy: 0.4021 - val_loss: 2.2347 - val_accuracy: 0.3344\n",
            "Epoch 5/5\n",
            "59500/59500 [==============================] - 23s 385us/step - loss: 1.8113 - accuracy: 0.4527 - val_loss: 2.3166 - val_accuracy: 0.3407\n"
          ],
          "name": "stdout"
        },
        {
          "output_type": "execute_result",
          "data": {
            "text/plain": [
              "<keras.callbacks.callbacks.History at 0x7fa3faa6ef98>"
            ]
          },
          "metadata": {
            "tags": []
          },
          "execution_count": 295
        }
      ]
    },
    {
      "cell_type": "code",
      "metadata": {
        "id": "XMfMfeZFFYFJ",
        "colab_type": "code",
        "outputId": "745b45ac-feda-4077-cae8-15af0641246c",
        "colab": {
          "base_uri": "https://localhost:8080/",
          "height": 51
        }
      },
      "source": [
        "model.evaluate(X_train,Y_train)"
      ],
      "execution_count": 0,
      "outputs": [
        {
          "output_type": "stream",
          "text": [
            "70000/70000 [==============================] - 11s 158us/step\n"
          ],
          "name": "stdout"
        },
        {
          "output_type": "execute_result",
          "data": {
            "text/plain": [
              "[1.6350010813031879, 0.5063571333885193]"
            ]
          },
          "metadata": {
            "tags": []
          },
          "execution_count": 296
        }
      ]
    },
    {
      "cell_type": "code",
      "metadata": {
        "id": "uW89zp7qLIPH",
        "colab_type": "code",
        "outputId": "0a05d63e-7a06-442c-ea18-46e5c72cb273",
        "colab": {
          "base_uri": "https://localhost:8080/",
          "height": 34
        }
      },
      "source": [
        "model.predict_classes(X_train[1:13])"
      ],
      "execution_count": 0,
      "outputs": [
        {
          "output_type": "execute_result",
          "data": {
            "text/plain": [
              "array([1, 9, 3, 3, 7, 5, 6, 2, 7, 9, 9, 1])"
            ]
          },
          "metadata": {
            "tags": []
          },
          "execution_count": 297
        }
      ]
    },
    {
      "cell_type": "code",
      "metadata": {
        "id": "s3swNlIBOKMl",
        "colab_type": "code",
        "outputId": "30b17e35-e0a0-41fa-b5c1-a9a05635dd95",
        "colab": {
          "base_uri": "https://localhost:8080/",
          "height": 34
        }
      },
      "source": [
        "smoothtweets[9]"
      ],
      "execution_count": 0,
      "outputs": [
        {
          "output_type": "execute_result",
          "data": {
            "text/plain": [
              "'Story On Saturday 136 Collins Ave, Miami Beach, FL 33139 Ladies Contact Me To Join Me In my…\\n '"
            ]
          },
          "metadata": {
            "tags": []
          },
          "execution_count": 298
        }
      ]
    },
    {
      "cell_type": "code",
      "metadata": {
        "id": "M44ksr8uOdux",
        "colab_type": "code",
        "colab": {}
      },
      "source": [
        "df=pd.read_csv('Mapping.csv')"
      ],
      "execution_count": 0,
      "outputs": []
    },
    {
      "cell_type": "code",
      "metadata": {
        "id": "NL1_joZFOkjm",
        "colab_type": "code",
        "outputId": "a1e22a1e-915b-4661-c6b6-8b407674139a",
        "colab": {
          "base_uri": "https://localhost:8080/",
          "height": 669
        }
      },
      "source": [
        "df.head(20)"
      ],
      "execution_count": 0,
      "outputs": [
        {
          "output_type": "execute_result",
          "data": {
            "text/html": [
              "<div>\n",
              "<style scoped>\n",
              "    .dataframe tbody tr th:only-of-type {\n",
              "        vertical-align: middle;\n",
              "    }\n",
              "\n",
              "    .dataframe tbody tr th {\n",
              "        vertical-align: top;\n",
              "    }\n",
              "\n",
              "    .dataframe thead th {\n",
              "        text-align: right;\n",
              "    }\n",
              "</style>\n",
              "<table border=\"1\" class=\"dataframe\">\n",
              "  <thead>\n",
              "    <tr style=\"text-align: right;\">\n",
              "      <th></th>\n",
              "      <th>Unnamed: 0</th>\n",
              "      <th>emoticons</th>\n",
              "      <th>number</th>\n",
              "    </tr>\n",
              "  </thead>\n",
              "  <tbody>\n",
              "    <tr>\n",
              "      <th>0</th>\n",
              "      <td>0</td>\n",
              "      <td>😜</td>\n",
              "      <td>0</td>\n",
              "    </tr>\n",
              "    <tr>\n",
              "      <th>1</th>\n",
              "      <td>1</td>\n",
              "      <td>📸</td>\n",
              "      <td>1</td>\n",
              "    </tr>\n",
              "    <tr>\n",
              "      <th>2</th>\n",
              "      <td>2</td>\n",
              "      <td>😍</td>\n",
              "      <td>2</td>\n",
              "    </tr>\n",
              "    <tr>\n",
              "      <th>3</th>\n",
              "      <td>3</td>\n",
              "      <td>😂</td>\n",
              "      <td>3</td>\n",
              "    </tr>\n",
              "    <tr>\n",
              "      <th>4</th>\n",
              "      <td>4</td>\n",
              "      <td>😉</td>\n",
              "      <td>4</td>\n",
              "    </tr>\n",
              "    <tr>\n",
              "      <th>5</th>\n",
              "      <td>5</td>\n",
              "      <td>🎄</td>\n",
              "      <td>5</td>\n",
              "    </tr>\n",
              "    <tr>\n",
              "      <th>6</th>\n",
              "      <td>6</td>\n",
              "      <td>📷</td>\n",
              "      <td>6</td>\n",
              "    </tr>\n",
              "    <tr>\n",
              "      <th>7</th>\n",
              "      <td>7</td>\n",
              "      <td>🔥</td>\n",
              "      <td>7</td>\n",
              "    </tr>\n",
              "    <tr>\n",
              "      <th>8</th>\n",
              "      <td>8</td>\n",
              "      <td>😘</td>\n",
              "      <td>8</td>\n",
              "    </tr>\n",
              "    <tr>\n",
              "      <th>9</th>\n",
              "      <td>9</td>\n",
              "      <td>❤</td>\n",
              "      <td>9</td>\n",
              "    </tr>\n",
              "    <tr>\n",
              "      <th>10</th>\n",
              "      <td>10</td>\n",
              "      <td>😁</td>\n",
              "      <td>10</td>\n",
              "    </tr>\n",
              "    <tr>\n",
              "      <th>11</th>\n",
              "      <td>11</td>\n",
              "      <td>🇺🇸</td>\n",
              "      <td>11</td>\n",
              "    </tr>\n",
              "    <tr>\n",
              "      <th>12</th>\n",
              "      <td>12</td>\n",
              "      <td>☀</td>\n",
              "      <td>12</td>\n",
              "    </tr>\n",
              "    <tr>\n",
              "      <th>13</th>\n",
              "      <td>13</td>\n",
              "      <td>✨</td>\n",
              "      <td>13</td>\n",
              "    </tr>\n",
              "    <tr>\n",
              "      <th>14</th>\n",
              "      <td>14</td>\n",
              "      <td>💙</td>\n",
              "      <td>14</td>\n",
              "    </tr>\n",
              "    <tr>\n",
              "      <th>15</th>\n",
              "      <td>15</td>\n",
              "      <td>💕</td>\n",
              "      <td>15</td>\n",
              "    </tr>\n",
              "    <tr>\n",
              "      <th>16</th>\n",
              "      <td>16</td>\n",
              "      <td>😎</td>\n",
              "      <td>16</td>\n",
              "    </tr>\n",
              "    <tr>\n",
              "      <th>17</th>\n",
              "      <td>17</td>\n",
              "      <td>😊</td>\n",
              "      <td>17</td>\n",
              "    </tr>\n",
              "    <tr>\n",
              "      <th>18</th>\n",
              "      <td>18</td>\n",
              "      <td>💜</td>\n",
              "      <td>18</td>\n",
              "    </tr>\n",
              "    <tr>\n",
              "      <th>19</th>\n",
              "      <td>19</td>\n",
              "      <td>💯</td>\n",
              "      <td>19</td>\n",
              "    </tr>\n",
              "  </tbody>\n",
              "</table>\n",
              "</div>"
            ],
            "text/plain": [
              "    Unnamed: 0 emoticons  number\n",
              "0            0         😜       0\n",
              "1            1         📸       1\n",
              "2            2         😍       2\n",
              "3            3         😂       3\n",
              "4            4         😉       4\n",
              "5            5         🎄       5\n",
              "6            6         📷       6\n",
              "7            7         🔥       7\n",
              "8            8         😘       8\n",
              "9            9         ❤       9\n",
              "10          10         😁      10\n",
              "11          11        🇺🇸      11\n",
              "12          12         ☀      12\n",
              "13          13         ✨      13\n",
              "14          14         💙      14\n",
              "15          15         💕      15\n",
              "16          16         😎      16\n",
              "17          17         😊      17\n",
              "18          18         💜      18\n",
              "19          19         💯      19"
            ]
          },
          "metadata": {
            "tags": []
          },
          "execution_count": 300
        }
      ]
    },
    {
      "cell_type": "code",
      "metadata": {
        "id": "_kZ4aFw5OmsC",
        "colab_type": "code",
        "outputId": "01c1a461-0231-4abb-f568-d42446ee03f9",
        "colab": {
          "base_uri": "https://localhost:8080/",
          "height": 34
        }
      },
      "source": [
        "data['Label'][9]"
      ],
      "execution_count": 0,
      "outputs": [
        {
          "output_type": "execute_result",
          "data": {
            "text/plain": [
              "7"
            ]
          },
          "metadata": {
            "tags": []
          },
          "execution_count": 301
        }
      ]
    },
    {
      "cell_type": "code",
      "metadata": {
        "id": "RGn4ZSs7Pk5S",
        "colab_type": "code",
        "colab": {}
      },
      "source": [
        "df3=pd.read_csv('Test.csv')"
      ],
      "execution_count": 0,
      "outputs": []
    },
    {
      "cell_type": "code",
      "metadata": {
        "id": "q7o7dypwP2EX",
        "colab_type": "code",
        "outputId": "197825c6-fae4-4287-8d0b-5b1ed1b17992",
        "colab": {
          "base_uri": "https://localhost:8080/",
          "height": 204
        }
      },
      "source": [
        "df3.head()"
      ],
      "execution_count": 0,
      "outputs": [
        {
          "output_type": "execute_result",
          "data": {
            "text/html": [
              "<div>\n",
              "<style scoped>\n",
              "    .dataframe tbody tr th:only-of-type {\n",
              "        vertical-align: middle;\n",
              "    }\n",
              "\n",
              "    .dataframe tbody tr th {\n",
              "        vertical-align: top;\n",
              "    }\n",
              "\n",
              "    .dataframe thead th {\n",
              "        text-align: right;\n",
              "    }\n",
              "</style>\n",
              "<table border=\"1\" class=\"dataframe\">\n",
              "  <thead>\n",
              "    <tr style=\"text-align: right;\">\n",
              "      <th></th>\n",
              "      <th>Unnamed: 0</th>\n",
              "      <th>id</th>\n",
              "      <th>TEXT</th>\n",
              "    </tr>\n",
              "  </thead>\n",
              "  <tbody>\n",
              "    <tr>\n",
              "      <th>0</th>\n",
              "      <td>0</td>\n",
              "      <td>0</td>\n",
              "      <td>Thought this was cool...#Repost (get_repost)・・...</td>\n",
              "    </tr>\n",
              "    <tr>\n",
              "      <th>1</th>\n",
              "      <td>1</td>\n",
              "      <td>1</td>\n",
              "      <td>Happy 4th! Corte madera parade. #everytownusa ...</td>\n",
              "    </tr>\n",
              "    <tr>\n",
              "      <th>2</th>\n",
              "      <td>2</td>\n",
              "      <td>2</td>\n",
              "      <td>Luv. Or at least something close to it. @ Unio...</td>\n",
              "    </tr>\n",
              "    <tr>\n",
              "      <th>3</th>\n",
              "      <td>3</td>\n",
              "      <td>3</td>\n",
              "      <td>There's a slice of pie under that whipped crea...</td>\n",
              "    </tr>\n",
              "    <tr>\n",
              "      <th>4</th>\n",
              "      <td>5</td>\n",
              "      <td>5</td>\n",
              "      <td>#thankyou for your thank you We adore you both...</td>\n",
              "    </tr>\n",
              "  </tbody>\n",
              "</table>\n",
              "</div>"
            ],
            "text/plain": [
              "   Unnamed: 0  id                                               TEXT\n",
              "0           0   0  Thought this was cool...#Repost (get_repost)・・...\n",
              "1           1   1  Happy 4th! Corte madera parade. #everytownusa ...\n",
              "2           2   2  Luv. Or at least something close to it. @ Unio...\n",
              "3           3   3  There's a slice of pie under that whipped crea...\n",
              "4           5   5  #thankyou for your thank you We adore you both..."
            ]
          },
          "metadata": {
            "tags": []
          },
          "execution_count": 303
        }
      ]
    },
    {
      "cell_type": "code",
      "metadata": {
        "id": "x4NmqscTP32m",
        "colab_type": "code",
        "colab": {}
      },
      "source": [
        "xtest=df3['TEXT']"
      ],
      "execution_count": 0,
      "outputs": []
    },
    {
      "cell_type": "code",
      "metadata": {
        "id": "ZszR1hgVP998",
        "colab_type": "code",
        "colab": {}
      },
      "source": [
        "smoothTESTtweets=[]\n",
        "stopper=set(stopwords.words('english'))\n",
        "for tweets in xtest:\n",
        "  words=tweets.split(\" \")\n",
        "  str = \"\"\n",
        "  for word in words:\n",
        "      if word[0] != \"@\" and word not in stopper:\n",
        "          if word[0] == \"#\":\n",
        "              word = word[1:]\n",
        "          str += word + \" \"\n",
        "  smoothTESTtweets.append(str)"
      ],
      "execution_count": 0,
      "outputs": []
    },
    {
      "cell_type": "code",
      "metadata": {
        "id": "nUkufJK2RBR5",
        "colab_type": "code",
        "colab": {}
      },
      "source": [
        "newsmoothtweets=tokenizer.texts_to_sequences(smoothTESTtweets)"
      ],
      "execution_count": 0,
      "outputs": []
    },
    {
      "cell_type": "code",
      "metadata": {
        "id": "mxIlFe6fRMP8",
        "colab_type": "code",
        "outputId": "8a93d10d-22ca-44bf-bdc0-ef222bebc7ea",
        "colab": {
          "base_uri": "https://localhost:8080/",
          "height": 34
        }
      },
      "source": [
        "newsmoothtweets[2]"
      ],
      "execution_count": 0,
      "outputs": [
        {
          "output_type": "execute_result",
          "data": {
            "text/plain": [
              "[1201, 887, 1092, 411, 797, 45, 727, 474, 1587, 298]"
            ]
          },
          "metadata": {
            "tags": []
          },
          "execution_count": 307
        }
      ]
    },
    {
      "cell_type": "code",
      "metadata": {
        "id": "I5LAMTzoROui",
        "colab_type": "code",
        "colab": {}
      },
      "source": [
        "x_test=sequence.pad_sequences(newsmoothtweets,maxlen=12,padding='post')"
      ],
      "execution_count": 0,
      "outputs": []
    },
    {
      "cell_type": "code",
      "metadata": {
        "id": "MF4pWqdbRY0q",
        "colab_type": "code",
        "outputId": "e3b9d441-3058-45e7-f760-cc20407413ac",
        "colab": {
          "base_uri": "https://localhost:8080/",
          "height": 51
        }
      },
      "source": [
        "x_test[3]"
      ],
      "execution_count": 0,
      "outputs": [
        {
          "output_type": "execute_result",
          "data": {
            "text/plain": [
              "array([ 667, 7371, 1648, 5277,  722,   86, 6889,    0,    0,    0,    0,\n",
              "          0], dtype=int32)"
            ]
          },
          "metadata": {
            "tags": []
          },
          "execution_count": 309
        }
      ]
    },
    {
      "cell_type": "code",
      "metadata": {
        "id": "srnw-__dRc4k",
        "colab_type": "code",
        "colab": {}
      },
      "source": [
        "data=model.predict_classes(x_test)\n"
      ],
      "execution_count": 0,
      "outputs": []
    },
    {
      "cell_type": "code",
      "metadata": {
        "id": "xZBuAGupjPbS",
        "colab_type": "code",
        "outputId": "143d0fbf-37a0-4cbe-9e47-08f0261a8441",
        "colab": {
          "base_uri": "https://localhost:8080/",
          "height": 782
        }
      },
      "source": [
        "for i in range(20,35,1):\n",
        "  print(df['emoticons'][data[i]])\n",
        "  print(smoothTESTtweets[i])"
      ],
      "execution_count": 0,
      "outputs": [
        {
          "output_type": "stream",
          "text": [
            "😂\n",
            "One favorite gyms FREE Fucking membership, get ass . Balboa Park\n",
            " \n",
            "😍\n",
            "Hanging guy today Thank great shoot filled plenty of…\n",
            " \n",
            "😎\n",
            "mood today Parkway North High School\n",
            " \n",
            "😍\n",
            "Chandelier Widener Library\n",
            " \n",
            "😎\n",
            "Sorry jump bandwagon. thisfilteriseverything Las…\n",
            " \n",
            "❤\n",
            "️ Princeton, New Jersey\n",
            " \n",
            "❤\n",
            "My main man Gladstone, Missouri\n",
            " \n",
            "😂\n",
            "Eat shit Irma ghostriotradio hurricaneirma irmanators goodforsprinkle pbr…\n",
            " \n",
            "❤\n",
            "Max went first aquarium trip went moving walkway. He amazing! ️ Check out…\n",
            " \n",
            "😍\n",
            "ikea fun me ... oh dam store, like disney interior architect's IKEA\n",
            " \n",
            "😂\n",
            "It's like I blinked 2 years flew Short Pump Town Center\n",
            " \n",
            "❤\n",
            "When moment meet future husband!!! marlonovershawn teammarlon Stress…\n",
            " \n",
            "😎\n",
            "We working hard today McDonald's 16827 Marsh Rd\n",
            " \n",
            "🔥\n",
            "\"No Flocking\" shot coming soon! LSV2 available datpiff freestyle…\n",
            " \n",
            "🔥\n",
            "Dj Ivan G! One Mixer, One Man, One Dj, That Rocks The Party! Always Mixes for…\n",
            " \n"
          ],
          "name": "stdout"
        }
      ]
    },
    {
      "cell_type": "code",
      "metadata": {
        "id": "Um3AlDbTRi70",
        "colab_type": "code",
        "outputId": "1b6306e6-6d4d-4152-bbea-d3c74536215d",
        "colab": {
          "base_uri": "https://localhost:8080/",
          "height": 34
        }
      },
      "source": [
        "smoothTESTtweets[2]"
      ],
      "execution_count": 0,
      "outputs": [
        {
          "output_type": "execute_result",
          "data": {
            "text/plain": [
              "'Luv. Or least something close it. Union Hill, Richmond, Virginia\\n '"
            ]
          },
          "metadata": {
            "tags": []
          },
          "execution_count": 311
        }
      ]
    },
    {
      "cell_type": "code",
      "metadata": {
        "id": "KksJU8qrRsT0",
        "colab_type": "code",
        "outputId": "8653299a-e82c-42da-ae83-3445324ba790",
        "colab": {
          "base_uri": "https://localhost:8080/",
          "height": 238
        }
      },
      "source": [
        ""
      ],
      "execution_count": 0,
      "outputs": [
        {
          "output_type": "execute_result",
          "data": {
            "text/plain": [
              "['Luv. Or least something close it. Union Hill, Richmond, Virginia\\n ',\n",
              " \"There's slice pie whipped cream. HouseofPies House Pies\\n \",\n",
              " 'thankyou thank We adore + plan moreeeee! Hosting wedding was…\\n ',\n",
              " 'SPECIAL4U Lyric video posted youtube channel today 6PM EST ! Z…\\n ',\n",
              " \"Momma Tanya's In town ! Awesome dinner friends! Perch\\n \",\n",
              " 'Thing 1 Thing 2 Huron, Ohio\\n ',\n",
              " 'Bday girl random Sheraton New York Times Square\\n ',\n",
              " 'Always fun forever wedding date Congrats &amp; ',\n",
              " 'La La Land Griffith Park Observatory-Los Angeles ,CA\\n ',\n",
              " 'Friends. Seattle Seattle, Washington\\n ',\n",
              " 'GETIT GOTIT GOOD WHATEVERIWANT BOW Oakland, California\\n ',\n",
              " 'Hanging bestie day ️#mtlove hyalite daysoff fishing endofsummer…\\n ',\n",
              " 'Stoked sitting tonight!! Therese folks Great…\\n ']"
            ]
          },
          "metadata": {
            "tags": []
          },
          "execution_count": 312
        }
      ]
    },
    {
      "cell_type": "code",
      "metadata": {
        "id": "5Au64K86R7Xw",
        "colab_type": "code",
        "colab": {}
      },
      "source": [
        ""
      ],
      "execution_count": 0,
      "outputs": []
    }
  ]
}